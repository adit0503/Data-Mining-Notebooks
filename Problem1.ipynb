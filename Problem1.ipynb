{
  "nbformat": 4,
  "nbformat_minor": 0,
  "metadata": {
    "colab": {
      "name": "Assignment 1.ipynb",
      "provenance": [],
      "collapsed_sections": [
        "U3j4NcRopFFr",
        "udE0WMCaMLht",
        "1zD5FHx4MPsx",
        "KXqfSKNPP5lX"
      ],
      "mount_file_id": "1rNmRJRZa9BmltaMkUZNN90R3WIbYQtqs",
      "authorship_tag": "ABX9TyPXvoTZeG1NjMUfi+AysMpc"
    },
    "kernelspec": {
      "name": "python3",
      "display_name": "Python 3"
    }
  },
  "cells": [
    {
      "cell_type": "code",
      "metadata": {
        "id": "fwrl9qu2B-jG"
      },
      "source": [
        "!pip install pyspark"
      ],
      "execution_count": null,
      "outputs": []
    },
    {
      "cell_type": "markdown",
      "metadata": {
        "id": "U3j4NcRopFFr"
      },
      "source": [
        "# Spark Session Initialization"
      ]
    },
    {
      "cell_type": "code",
      "metadata": {
        "id": "RaxmB5CEEadu"
      },
      "source": [
        "from pyspark.sql import SparkSession"
      ],
      "execution_count": null,
      "outputs": []
    },
    {
      "cell_type": "code",
      "metadata": {
        "id": "K3UAPlsjCWBZ"
      },
      "source": [
        "INPUT = 'drive/MyDrive/Google-Colab-Data/assignment1/survey_results_public.csv'"
      ],
      "execution_count": null,
      "outputs": []
    },
    {
      "cell_type": "code",
      "metadata": {
        "id": "nMbyZpvVEmF3"
      },
      "source": [
        "spark = SparkSession.builder \\\n",
        "    .master(\"local[*]\") \\\n",
        "    .appName(\"HW1\") \\\n",
        "    .config(\"spark.some.config.option\", \"some-value\") \\\n",
        "    .getOrCreate()"
      ],
      "execution_count": null,
      "outputs": []
    },
    {
      "cell_type": "code",
      "metadata": {
        "id": "C3kyO352bhEZ"
      },
      "source": [
        "df = spark.read.csv(INPUT, header='true')\n",
        "df = df.select(\"Country\",\"Salary\",\"SalaryType\")"
      ],
      "execution_count": null,
      "outputs": []
    },
    {
      "cell_type": "markdown",
      "metadata": {
        "id": "udE0WMCaMLht"
      },
      "source": [
        "# Task 1"
      ]
    },
    {
      "cell_type": "code",
      "metadata": {
        "id": "aq2XCSc_YaQ0"
      },
      "source": [
        "OUTPUT1 = 'drive/MyDrive/Google-Colab-Data/assignment1/task1.csv'"
      ],
      "execution_count": null,
      "outputs": []
    },
    {
      "cell_type": "code",
      "metadata": {
        "id": "_QSjRz_UEvI7"
      },
      "source": [
        "df_task1 = df.select(\"Country\",\"Salary\")\n",
        "rdd1 = df_task1.rdd"
      ],
      "execution_count": null,
      "outputs": []
    },
    {
      "cell_type": "code",
      "metadata": {
        "id": "0Bzg8F7SGBU5"
      },
      "source": [
        "def getValidCountry(rdd):\n",
        "    return rdd.filter(lambda row:row.Salary != 'NA' and row.Salary != '0')\n",
        "rdd_validCountry = getValidCountry(rdd1)"
      ],
      "execution_count": null,
      "outputs": []
    },
    {
      "cell_type": "code",
      "metadata": {
        "id": "XVxP8R5VFeOf"
      },
      "source": [
        "def getTotalCount(rdd):\n",
        "    return rdd.count()\n",
        "total = getTotalCount(rdd_validCountry)"
      ],
      "execution_count": null,
      "outputs": []
    },
    {
      "cell_type": "code",
      "metadata": {
        "id": "yZScK2ceF_EW"
      },
      "source": [
        "def getCountryWiseCount(rdd):\n",
        "    return rdd.map(lambda row:(row.Country,1)).reduceByKey(lambda a,b:a+b).sortByKey()\n",
        "resultRDD1 = getCountryWiseCount(rdd_validCountry)"
      ],
      "execution_count": null,
      "outputs": []
    },
    {
      "cell_type": "code",
      "metadata": {
        "id": "WNiwqcZOHjvI"
      },
      "source": [
        "def toCSV1(L):\n",
        "    return ','.join(str(l) for l in L)\n",
        "ans1 = resultRDD1.map(toCSV1).collect()"
      ],
      "execution_count": null,
      "outputs": []
    },
    {
      "cell_type": "code",
      "metadata": {
        "id": "SZ5kaR_tHsDX"
      },
      "source": [
        "with open(OUTPUT1,\"w\") as f:\n",
        "    f.write(f'Total, {total}\\n')\n",
        "    for ans in ans1:\n",
        "        f.write(f'{ans}\\n')"
      ],
      "execution_count": null,
      "outputs": []
    },
    {
      "cell_type": "markdown",
      "metadata": {
        "id": "1zD5FHx4MPsx"
      },
      "source": [
        "# Task 2 *"
      ]
    },
    {
      "cell_type": "code",
      "metadata": {
        "id": "nvI8-rPWMRth"
      },
      "source": [
        "def countItems(i,partition):\n",
        "    count = 0\n",
        "    for _ in partition:\n",
        "        count += 1\n",
        "    return i,count"
      ],
      "execution_count": null,
      "outputs": []
    },
    {
      "cell_type": "code",
      "metadata": {
        "id": "npK2Nb3HYUT1"
      },
      "source": [
        "new_rdd = rdd1.repartition(2)"
      ],
      "execution_count": null,
      "outputs": []
    },
    {
      "cell_type": "code",
      "metadata": {
        "id": "-nIEVF7hYjay"
      },
      "source": [
        "new_rdd_ans = new_rdd.filter(lambda row:row.Salary != 'NA' and row.Salary != '0').map(lambda row:(row.Country,1)).reduceByKey(lambda a,b:a+b).sortByKey()"
      ],
      "execution_count": null,
      "outputs": []
    },
    {
      "cell_type": "code",
      "metadata": {
        "id": "DSvMzE5iY5Xg"
      },
      "source": [
        "old_rdd_ans = rdd.filter(lambda row:row.Salary != 'NA' and row.Salary != '0').map(lambda row:(row.Country,1)).reduceByKey(lambda a,b:a+b).sortByKey()"
      ],
      "execution_count": null,
      "outputs": []
    },
    {
      "cell_type": "code",
      "metadata": {
        "colab": {
          "base_uri": "https://localhost:8080/"
        },
        "id": "DfPEMGuhY2_L",
        "outputId": "d118b549-75ca-4e5e-f19e-4eb28c3031c0"
      },
      "source": [
        "new_rdd_ans.mapPartitionsWithIndex(countItems).collect()"
      ],
      "execution_count": null,
      "outputs": [
        {
          "output_type": "execute_result",
          "data": {
            "text/plain": [
              "[0, 76, 1, 84]"
            ]
          },
          "metadata": {
            "tags": []
          },
          "execution_count": 25
        }
      ]
    },
    {
      "cell_type": "code",
      "metadata": {
        "colab": {
          "base_uri": "https://localhost:8080/"
        },
        "id": "yNtDZIRKZGxi",
        "outputId": "2862c610-b166-4c60-b7eb-390c91161754"
      },
      "source": [
        "old_rdd_ans.mapPartitionsWithIndex(countItems).collect()"
      ],
      "execution_count": null,
      "outputs": [
        {
          "output_type": "execute_result",
          "data": {
            "text/plain": [
              "[0, 98, 1, 62]"
            ]
          },
          "metadata": {
            "tags": []
          },
          "execution_count": 26
        }
      ]
    },
    {
      "cell_type": "code",
      "metadata": {
        "id": "bkdw-s16ZOp1"
      },
      "source": [
        ""
      ],
      "execution_count": null,
      "outputs": []
    },
    {
      "cell_type": "markdown",
      "metadata": {
        "id": "KXqfSKNPP5lX"
      },
      "source": [
        "# Task 3"
      ]
    },
    {
      "cell_type": "code",
      "metadata": {
        "id": "PSwrKnC0CHwO"
      },
      "source": [
        "OUTPUT3 = 'drive/MyDrive/Google-Colab-Data/assignment1/task3.csv'"
      ],
      "execution_count": null,
      "outputs": []
    },
    {
      "cell_type": "code",
      "metadata": {
        "id": "DIF8V3AoP7s1"
      },
      "source": [
        "df_task3 = df\n",
        "rdd3 = df_task3.rdd\n",
        "rdd3 = rdd3.filter(lambda row:row.Salary != 'NA' and row.Salary != '0')"
      ],
      "execution_count": null,
      "outputs": []
    },
    {
      "cell_type": "code",
      "metadata": {
        "id": "6FWteMK0clTU"
      },
      "source": [
        "def getCountryCount(rdd):\n",
        "    return rdd.map(lambda row:(row.Country,1)).reduceByKey(lambda a,b:a+b).sortByKey()\n",
        "rdd_countryCount = getCountryCount(rdd3)"
      ],
      "execution_count": null,
      "outputs": []
    },
    {
      "cell_type": "code",
      "metadata": {
        "id": "i4DMKRsFfY2l"
      },
      "source": [
        "def getAnnualSalaryRDD(rdd):\n",
        "    def getSalary(row):\n",
        "        salary = float(row.Salary.replace(',',''))\n",
        "        if row.SalaryType == 'Monthly':\n",
        "            return (row.Country, salary*12)\n",
        "        elif row.SalaryType == 'Weekly':\n",
        "            return (row.Country, salary*52)\n",
        "        return (row.Country, salary)\n",
        "    return rdd.map(getSalary)\n",
        "rdd_annualSalary = getAnnualSalaryRDD(rdd3)"
      ],
      "execution_count": null,
      "outputs": []
    },
    {
      "cell_type": "code",
      "metadata": {
        "id": "4Dr6muZ2hzYi"
      },
      "source": [
        "def getMinSalary(rdd):\n",
        "    def formatSalary(X):\n",
        "        return int(X)\n",
        "    return rdd.reduceByKey(lambda a,b:min(a,b)).mapValues(formatSalary)\n",
        "rdd_minSalary = getMinSalary(rdd_annualSalary)"
      ],
      "execution_count": null,
      "outputs": []
    },
    {
      "cell_type": "code",
      "metadata": {
        "id": "tDazv51JxT67"
      },
      "source": [
        "def getMaxSalary(rdd):\n",
        "    def formatSalary(X):\n",
        "        return int(X)\n",
        "    return rdd.reduceByKey(lambda a,b:max(a,b)).mapValues(formatSalary)\n",
        "rdd_maxSalary = getMaxSalary(rdd_annualSalary)"
      ],
      "execution_count": null,
      "outputs": []
    },
    {
      "cell_type": "code",
      "metadata": {
        "id": "IlIMjz0P0yml"
      },
      "source": [
        "def getAvgSalary(rdd):\n",
        "    def average(X):\n",
        "        return '{:.2f}'.format(X[0]/X[1])\n",
        "    rdd = rdd.aggregateByKey((0,0),lambda acc, val:(acc[0]+val, acc[1]+1), lambda acc1,acc2:(acc1[0]+acc2[0],acc1[1]+acc2[1]))\n",
        "    rdd = rdd.mapValues(average)\n",
        "    return rdd\n",
        "rdd_avgSalary = getAvgSalary(rdd_annualSalary)"
      ],
      "execution_count": null,
      "outputs": []
    },
    {
      "cell_type": "code",
      "metadata": {
        "id": "FxscDlVJ_SVW"
      },
      "source": [
        "def getResult(rdd1,rdd2,rdd3,rdd4):\n",
        "    rdd = rdd1.join(rdd2).join(rdd3).join(rdd4)\n",
        "    def combineResult(X):\n",
        "        return (X[0][0][0], X[0][0][1], X[0][1], X[1])\n",
        "    return rdd.mapValues(combineResult).sortByKey()\n",
        "resultRDD3 = getResult(rdd_countryCount,rdd_minSalary,rdd_maxSalary,rdd_avgSalary)"
      ],
      "execution_count": null,
      "outputs": []
    },
    {
      "cell_type": "code",
      "metadata": {
        "id": "efGLiHYrC3Wc"
      },
      "source": [
        "def toCSV3(T):\n",
        "    S1 = T[0]\n",
        "    S2 = ','.join(str(t) for t in T[1])\n",
        "    return S1+','+S2\n",
        "ans3 = resultRDD3.map(toCSV3).collect()"
      ],
      "execution_count": null,
      "outputs": []
    },
    {
      "cell_type": "code",
      "metadata": {
        "id": "H92kCvnl9fK0"
      },
      "source": [
        "with open(OUTPUT3,\"w\") as f:\n",
        "    for ans in ans3:\n",
        "        f.write(f'{ans}\\n')"
      ],
      "execution_count": null,
      "outputs": []
    }
  ]
}